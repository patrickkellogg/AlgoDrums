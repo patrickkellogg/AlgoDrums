{
 "cells": [
  {
   "cell_type": "markdown",
   "metadata": {
    "slideshow": {
     "slide_type": "slide"
    }
   },
   "source": [
    "# python-drums\n",
    "\n",
    "From https://github.com/ldct/python-drums"
   ]
  },
  {
   "cell_type": "code",
   "execution_count": 1,
   "metadata": {
    "collapsed": false,
    "scrolled": true,
    "slideshow": {
     "slide_type": "skip"
    }
   },
   "outputs": [
    {
     "name": "stdout",
     "output_type": "stream",
     "text": [
      "Rendering audio...\n",
      "Playing audio...\n",
      "Done!\n"
     ]
    }
   ],
   "source": [
    "import os\n",
    "import sys\n",
    "module_path = os.path.abspath(os.path.join('/Users/mudcub/Dropbox/Projects/AlgoDrums'))\n",
    "if module_path not in sys.path:\n",
    "    sys.path.append(module_path)\n",
    "module_path = os.path.abspath(os.path.join('/Users/mudcub/Dropbox/Projects/AlgoDrums/musical'))\n",
    "if module_path not in sys.path:\n",
    "    sys.path.append(module_path)\n",
    "module_path = os.path.abspath(os.path.join('/Users/mudcub/Dropbox/Projects/AlgoDrums/musical/audio'))\n",
    "if module_path not in sys.path:\n",
    "    sys.path.append(module_path)\n",
    "module_path = os.path.abspath(os.path.join('/Users/mudcub/Dropbox/Projects/AlgoDrums/musical/theory'))\n",
    "if module_path not in sys.path:\n",
    "    sys.path.append(module_path)\n",
    "    \n",
    "#print(sys.path)\n",
    "\n",
    "from musical.theory import Note, Scale, Chord\n",
    "from musical.audio import playback\n",
    "\n",
    "from timeline import Hit, Timeline\n",
    "\n",
    "import pygame\n",
    "BD = pygame.mixer.Sound('/Users/mudcub/Dropbox/Projects/AlgoDrums/samples/BassDrums1/bassdrum1.wav')\n",
    "SD = pygame.mixer.Sound('/Users/mudcub/Dropbox/Projects/AlgoDrums/samples/SnareDrums1/snaredrum1.wav')\n",
    "HH = pygame.mixer.Sound('/Users/mudcub/Dropbox/Projects/AlgoDrums/samples/HiHats1/hihat1.wav')\n",
    "C1 = pygame.mixer.Sound('/Users/mudcub/Dropbox/Projects/AlgoDrums/samples/Cymbals1/cymbal1.wav')\n",
    "C2 = pygame.mixer.Sound('/Users/mudcub/Dropbox/Projects/AlgoDrums/samples/Cymbals1/cymbal2.wav')\n",
    "FT = pygame.mixer.Sound('/Users/mudcub/Dropbox/Projects/AlgoDrums/samples/TomTomDrums/tomtomdrum3.wav')\n",
    "\n",
    "time = 0.0\n",
    "timeline = Timeline()\n",
    "\n",
    "sound_string = {}\n",
    "sound_string[BD] = \"BD\"\n",
    "sound_string[SD] = \"SD\"\n",
    "sound_string[HH] = \"HH\"\n",
    "sound_string[C1] = \"C1\"\n",
    "sound_string[C2] = \"C2\"\n",
    "sound_string[FT] = \"FT\"\n",
    "sound_string[\"BD\"] = BD\n",
    "sound_string[\"SD\"] = SD\n",
    "sound_string[\"HH\"] = HH\n",
    "sound_string[\"C1\"] = C1\n",
    "sound_string[\"C2\"] = C2\n",
    "sound_string[\"FT\"] = FT\n",
    "\n",
    "def add(t, sound):\n",
    "  timeline.add(t, Hit(sound_string[sound], 1, sound))\n",
    "\n",
    "#gap = 0.2\n",
    "gap = 0.1\n",
    "\n",
    "guns = open('21guns.tab').readlines()\n",
    "\n",
    "for line in guns:\n",
    "  if len(line) < 2:\n",
    "    time += 64*gap\n",
    "    continue\n",
    "  if len(line) < 12:\n",
    "    time += int(line)*gap\n",
    "    continue\n",
    "  sound = sound_string[line[0:2]]\n",
    "  pos = 0.0\n",
    "  for word in line[2:]:\n",
    "    if word == \"|\" or word == \"\\n\":\n",
    "      continue\n",
    "    if word == \"-\":\n",
    "      pos += gap\n",
    "    else:\n",
    "      add(time + pos, sound)\n",
    "      pos += gap\n",
    "\n",
    "print(\"Rendering audio...\")\n",
    "\n",
    "data = timeline.render()\n",
    "\n",
    "print(\"Playing audio...\")\n",
    "\n",
    "playback.play(data)\n",
    "\n",
    "print(\"Done!\")"
   ]
  },
  {
   "cell_type": "code",
   "execution_count": null,
   "metadata": {
    "collapsed": true
   },
   "outputs": [],
   "source": []
  },
  {
   "cell_type": "code",
   "execution_count": null,
   "metadata": {
    "collapsed": true
   },
   "outputs": [],
   "source": []
  }
 ],
 "metadata": {
  "anaconda-cloud": {},
  "kernelspec": {
   "display_name": "Python [Root]",
   "language": "python",
   "name": "Python [Root]"
  },
  "language_info": {
   "codemirror_mode": {
    "name": "ipython",
    "version": 3
   },
   "file_extension": ".py",
   "mimetype": "text/x-python",
   "name": "python",
   "nbconvert_exporter": "python",
   "pygments_lexer": "ipython3",
   "version": "3.5.2"
  }
 },
 "nbformat": 4,
 "nbformat_minor": 0
}
